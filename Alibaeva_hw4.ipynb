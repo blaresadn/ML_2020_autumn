{
 "cells": [
  {
   "cell_type": "markdown",
   "metadata": {},
   "source": [
    "### Алгоритмы интеллектуальной обработки больших объемов данных\n",
    "## Домашнее задание №4 - Градиентный бустинг\n"
   ]
  },
  {
   "cell_type": "markdown",
   "metadata": {},
   "source": [
    "**Общая информация**\n",
    "\n",
    "**Срок сдачи:** 21 декабря 2020, 08:30   \n",
    "**Штраф за опоздание:** -2 балла после 08:30 21 декабря, -4 балла после 08:30 28 декабря, -6 баллов после 08:30 04 янва, -8 баллов после 08:30 11 января.\n",
    "\n",
    "При отправлении ДЗ указывайте фамилию в названии файла Присылать ДЗ необходимо в виде ссылки на свой github репозиторий на почту ml1.sphere@mail.ru с указанием темы в следующем формате:\n",
    "[ML0220, Задание 4] Фамилия Имя. \n",
    "\n",
    "\n",
    "Используйте данный Ipython Notebook при оформлении домашнего задания."
   ]
  },
  {
   "cell_type": "markdown",
   "metadata": {},
   "source": [
    "##  Считаем производные для функций потерь (1 балл)"
   ]
  },
  {
   "cell_type": "markdown",
   "metadata": {},
   "source": [
    "Мы будем реализовать градиентный бустинг для 3 функций потерь:\n",
    "\n",
    "1) MSE  $L(a(x_i), y_i) = (y_i - a(x_i)) ^ 2$\n",
    "\n",
    "2) Экспоненциальная  $L(a(x_i), y_i) = exp( -a(x_i) y_i), y_i \\in \\{-1, 1\\}$\n",
    "\n",
    "3) Логистическая  $L(a(x_i), y_i) = \\log (1 + exp( -a(x_i) y_i)), y_i \\in \\{-1, 1\\}$\n",
    "\n",
    "где $a(x_i)$ предсказание бустинга на итом объекте. \n",
    "\n",
    "Для каждой функции потерь напишите таргет, на который будет настраиваться каждое дерево в бустинге. "
   ]
  },
  {
   "cell_type": "markdown",
   "metadata": {},
   "source": [
    "1) $-\\frac{d}{da}L = 2(y_i - a(x_i))$"
   ]
  },
  {
   "cell_type": "markdown",
   "metadata": {},
   "source": [
    "2) $-\\frac{d}{da}L = y_iexp(-a(x_i)y_i)$"
   ]
  },
  {
   "cell_type": "markdown",
   "metadata": {},
   "source": [
    "3) $-\\frac{d}{da}L = \\frac{y_i exp(-a(x_i)y_i)}{1 + exp(-a(x_i)y_i)}$"
   ]
  },
  {
   "cell_type": "markdown",
   "metadata": {},
   "source": [
    "##  Реализуем градиентный бустинг (3 балла)"
   ]
  },
  {
   "cell_type": "markdown",
   "metadata": {},
   "source": [
    "Реализуйте класс градиентного бустинга для классификации. Ваша реализация бустинга должна работать по точности не более чем на 5 процентов хуже чем GradientBoostingClassifier из sklearn. \n"
   ]
  },
  {
   "cell_type": "markdown",
   "metadata": {},
   "source": [
    "Детали реализации:\n",
    "\n",
    "-- должно поддерживаться 3 функции потерь\n",
    "\n",
    "-- сами базовые алгоритмы(деревья, линейные модели и тп) реализовать не надо, просто возьмите готовые из sklearn\n",
    "\n",
    "-- в качестве функции потерь для построения одного дерева используйте MSE\n",
    "\n",
    "-- шаг в бустинге можно не подбирать, можно брать константный\n",
    "\n",
    "-- можно брать разные модели в качестве инициализации бустинга\n",
    "\n",
    "-- должны поддерживаться следующие параметры:\n",
    "\n",
    "а) число итераций\n",
    "б) размер шага\n",
    "в) процент случайных фичей при построении одного дерева\n",
    "д) процент случайных объектов при построении одного дерева\n",
    "е) параметры базового алгоритма (передавайте через **kwargs)"
   ]
  },
  {
   "cell_type": "code",
   "execution_count": 1,
   "metadata": {},
   "outputs": [],
   "source": [
    "import numpy as np\n",
    "\n",
    "from sklearn.datasets import load_wine\n",
    "from sklearn.ensemble import GradientBoostingClassifier\n",
    "from sklearn.metrics import accuracy_score\n",
    "from sklearn.model_selection import train_test_split\n",
    "from sklearn.tree import DecisionTreeRegressor"
   ]
  },
  {
   "cell_type": "code",
   "execution_count": 135,
   "metadata": {},
   "outputs": [],
   "source": [
    "class MyGradientBoostingClassifier:\n",
    "\n",
    "    def __init__(self, loss='MSE', learning_rate=0.1, my_n_estimators=100, \n",
    "                 colsample=1.0, subsample=1.0, *args, **kwargs):\n",
    "        \"\"\"\n",
    "        loss -- один из 3 лоссов:\n",
    "        learning_rate -- шаг бустинга\n",
    "        n_estimators -- число итераций\n",
    "        colsample -- процент рандомных признаков при обучнеии одного алгоритма\n",
    "        subsample -- процент рандомных объектов при обучнеии одного алгоритма\n",
    "        args, kwargs -- параметры  базовых моделей\n",
    "        \"\"\"\n",
    "        # Ваш код здесь\n",
    "        self.learning_rate = learning_rate\n",
    "        self.n_estimators = n_estimators\n",
    "        self.colsample = colsample\n",
    "        self.subsample = subsample\n",
    "        self.params = args\n",
    "        self.kwparams = kwargs\n",
    "        self.preds = None\n",
    "        if loss == 'MSE':\n",
    "            self.__antigr = self.__mse\n",
    "        elif loss == 'exponential':\n",
    "            self.__antigr = self.__exp\n",
    "        elif loss == 'logistic':\n",
    "            self.__antigr = self.__log\n",
    "        self.models = []\n",
    "        self.features = []\n",
    "    \n",
    "    def __mse(self, y, preds):\n",
    "        return 2 * (y - preds)\n",
    "    \n",
    "    def __exp(self, y, preds):\n",
    "        return y * np.exp(-y * preds)\n",
    "    \n",
    "    def __log(self, y, preds):\n",
    "        return y * np.exp(-y * preds) / (1 + np.exp(-y * preds))\n",
    "    \n",
    "    def fit(self, X, y, base_model=DecisionTreeRegressor, init_model=None):\n",
    "        \"\"\"\n",
    "        X -- объекты для обучения:\n",
    "        y -- таргеты для обучения\n",
    "        base_model -- класс базовых моделей, например sklearn.tree.DecisionTreeRegressor\n",
    "        init_model -- класс для первой модели, если None то берем константу (только для посл задания)\n",
    "        \"\"\"\n",
    "        # Ваш код здесь\n",
    "        if init_model is None:\n",
    "            self.init_model = None\n",
    "            self.preds = np.ones(X.shape[0]) / X.shape[0]\n",
    "        else:\n",
    "            model = init_model()\n",
    "            model.fit(X, y)\n",
    "            self.init_model = model\n",
    "            self.preds = model.predict(X)\n",
    "            self.preds = self.preds.astype(float)\n",
    "        \n",
    "        for i in range(self.n_estimators):\n",
    "            features_num = int(self.colsample * X.shape[1])\n",
    "            features = np.random.randint(low=0, high=X.shape[1], size=features_num)\n",
    "            objects_num = int(self.subsample * X.shape[0])\n",
    "            objects = np.random.randint(low=0, high=X.shape[0], size=objects_num)\n",
    "            model = base_model(*self.params, **self.kwparams)\n",
    "            cur_X = X[objects]\n",
    "            model.fit(cur_X[:, features], self.__antigr(y[objects], self.preds[objects]))\n",
    "            self.preds += self.learning_rate * model.predict(X[:, features])\n",
    "            self.models.append(model)\n",
    "            self.features.append(features)\n",
    "        \n",
    "    def predict(self, X):\n",
    "        # Ваш код здесь\n",
    "        preds = None\n",
    "        if self.init_model is None:\n",
    "            preds = np.ones(X.shape[0]) / X.shape[0]\n",
    "        else:\n",
    "            preds = self.init_model.predict(X).astype(float)\n",
    "        for i in range(len(self.models)):\n",
    "            preds += self.learning_rate * self.models[i].predict(X[:, self.features[i]])\n",
    "        return np.around(preds)"
   ]
  },
  {
   "cell_type": "code",
   "execution_count": 65,
   "metadata": {},
   "outputs": [],
   "source": [
    "my_clf = MyGradientBoostingClassifier()\n",
    "clf = GradientBoostingClassifier()"
   ]
  },
  {
   "cell_type": "code",
   "execution_count": 66,
   "metadata": {},
   "outputs": [],
   "source": [
    "wine = load_wine()\n",
    "X_train, X_test, y_train, y_test = train_test_split(wine.data, wine.target, test_size=0.1, stratify=wine.target)"
   ]
  },
  {
   "cell_type": "code",
   "execution_count": 67,
   "metadata": {},
   "outputs": [
    {
     "name": "stdout",
     "output_type": "stream",
     "text": [
      "0.8888888888888888\n",
      "0.9444444444444444\n"
     ]
    }
   ],
   "source": [
    "my_clf.fit(X_train, y_train)\n",
    "clf.fit(X_train, y_train)\n",
    "print(accuracy_score(y_pred=clf.predict(X_test), y_true=y_test))\n",
    "print(accuracy_score(y_pred=my_clf.predict(X_test), y_true=y_test))"
   ]
  },
  {
   "cell_type": "markdown",
   "metadata": {},
   "source": [
    "## Подбираем параметры (2 балла)\n",
    "\n",
    "Давайте попробуем применить Ваш бустинг для предсказаний цены домов в Калифорнии. Чтобы можно было попробовтаь разные функции потерь, переведем по порогу таргет в 2 класса: дорогие и дешевые дома."
   ]
  },
  {
   "cell_type": "markdown",
   "metadata": {},
   "source": [
    "В задании нужно\n",
    "\n",
    "1) Построить график точности в зависимости от числа итераций на валидации.\n",
    "\n",
    "2) Подобрать оптимальные параметры Вашего бустинга на валидации. \n"
   ]
  },
  {
   "cell_type": "code",
   "execution_count": 68,
   "metadata": {},
   "outputs": [
    {
     "name": "stderr",
     "output_type": "stream",
     "text": [
      "Downloading Cal. housing from https://ndownloader.figshare.com/files/5976036 to /Users/camila/scikit_learn_data\n"
     ]
    }
   ],
   "source": [
    "from sklearn.datasets import fetch_california_housing\n",
    "X, y = fetch_california_housing(return_X_y=True)"
   ]
  },
  {
   "cell_type": "code",
   "execution_count": 69,
   "metadata": {},
   "outputs": [
    {
     "name": "stdout",
     "output_type": "stream",
     "text": [
      "(20640, 8) (20640,)\n"
     ]
    }
   ],
   "source": [
    "# Превращаем регрессию в классификацию\n",
    "y = (y > 2.0).astype(int)\n",
    "print(X.shape, y.shape)"
   ]
  },
  {
   "cell_type": "code",
   "execution_count": 79,
   "metadata": {},
   "outputs": [],
   "source": [
    "from sklearn.model_selection import KFold\n",
    "import matplotlib.pyplot as plt"
   ]
  },
  {
   "cell_type": "code",
   "execution_count": 76,
   "metadata": {},
   "outputs": [
    {
     "name": "stdout",
     "output_type": "stream",
     "text": [
      "0.8531007751937985\n",
      "0.8709786821705426\n",
      "0.8661337209302324\n",
      "0.878391472868217\n",
      "0.8700581395348836\n",
      "0.8688468992248062\n",
      "0.8755813953488373\n"
     ]
    },
    {
     "ename": "NameError",
     "evalue": "name 'plt' is not defined",
     "output_type": "error",
     "traceback": [
      "\u001b[0;31m---------------------------------------------------------------------------\u001b[0m",
      "\u001b[0;31mNameError\u001b[0m                                 Traceback (most recent call last)",
      "\u001b[0;32m<ipython-input-76-39a3136a8d31>\u001b[0m in \u001b[0;36m<module>\u001b[0;34m\u001b[0m\n\u001b[1;32m      8\u001b[0m     \u001b[0mprint\u001b[0m\u001b[0;34m(\u001b[0m\u001b[0mnp\u001b[0m\u001b[0;34m.\u001b[0m\u001b[0mmean\u001b[0m\u001b[0;34m(\u001b[0m\u001b[0mcur_score\u001b[0m\u001b[0;34m)\u001b[0m\u001b[0;34m)\u001b[0m\u001b[0;34m\u001b[0m\u001b[0;34m\u001b[0m\u001b[0m\n\u001b[1;32m      9\u001b[0m     \u001b[0mscore\u001b[0m\u001b[0;34m.\u001b[0m\u001b[0mappend\u001b[0m\u001b[0;34m(\u001b[0m\u001b[0mnp\u001b[0m\u001b[0;34m.\u001b[0m\u001b[0mmean\u001b[0m\u001b[0;34m(\u001b[0m\u001b[0mcur_score\u001b[0m\u001b[0;34m)\u001b[0m\u001b[0;34m)\u001b[0m\u001b[0;34m\u001b[0m\u001b[0;34m\u001b[0m\u001b[0m\n\u001b[0;32m---> 10\u001b[0;31m \u001b[0mplt\u001b[0m\u001b[0;34m.\u001b[0m\u001b[0mplot\u001b[0m\u001b[0;34m(\u001b[0m\u001b[0;34m[\u001b[0m\u001b[0;36m10\u001b[0m\u001b[0;34m,\u001b[0m \u001b[0;36m20\u001b[0m\u001b[0;34m,\u001b[0m \u001b[0;36m50\u001b[0m\u001b[0;34m,\u001b[0m \u001b[0;36m70\u001b[0m\u001b[0;34m,\u001b[0m \u001b[0;36m100\u001b[0m\u001b[0;34m,\u001b[0m \u001b[0;36m150\u001b[0m\u001b[0;34m,\u001b[0m \u001b[0;36m200\u001b[0m\u001b[0;34m]\u001b[0m\u001b[0;34m,\u001b[0m \u001b[0mscore\u001b[0m\u001b[0;34m)\u001b[0m\u001b[0;34m\u001b[0m\u001b[0;34m\u001b[0m\u001b[0m\n\u001b[0m\u001b[1;32m     11\u001b[0m \u001b[0mplt\u001b[0m\u001b[0;34m.\u001b[0m\u001b[0mshow\u001b[0m\u001b[0;34m(\u001b[0m\u001b[0;34m)\u001b[0m\u001b[0;34m\u001b[0m\u001b[0;34m\u001b[0m\u001b[0m\n",
      "\u001b[0;31mNameError\u001b[0m: name 'plt' is not defined"
     ]
    }
   ],
   "source": [
    "score = []\n",
    "for n_estimators in [10, 20, 50, 70, 100, 150, 200]:\n",
    "    cur_score = []\n",
    "    for train, val in KFold(n_splits=5, shuffle=True).split(X, y):\n",
    "        my_clf = MyGradientBoostingClassifier(n_estimators=n_estimators)\n",
    "        my_clf.fit(X[train], y[train])\n",
    "        cur_score.append(accuracy_score(y[val], my_clf.predict(X[val])))\n",
    "    print(np.mean(cur_score))\n",
    "    score.append(np.mean(cur_score))"
   ]
  },
  {
   "cell_type": "code",
   "execution_count": 80,
   "metadata": {},
   "outputs": [
    {
     "data": {
      "image/png": "[encoded data removed]",
      "text/plain": [
       "<Figure size 432x288 with 1 Axes>"
      ]
     },
     "metadata": {
      "needs_background": "light"
     },
     "output_type": "display_data"
    }
   ],
   "source": [
    "plt.plot([10, 20, 50, 70, 100, 150, 200], score)\n",
    "plt.show()"
   ]
  },
  {
   "cell_type": "code",
   "execution_count": 81,
   "metadata": {},
   "outputs": [],
   "source": [
    "n_estimators = 70"
   ]
  },
  {
   "cell_type": "code",
   "execution_count": 82,
   "metadata": {},
   "outputs": [
    {
     "name": "stdout",
     "output_type": "stream",
     "text": [
      "0.8679263565891473\n",
      "0.5090116279069767\n",
      "0.5993217054263565\n"
     ]
    },
    {
     "data": {
      "text/plain": [
       "[0.8679263565891473, 0.5090116279069767, 0.5993217054263565]"
      ]
     },
     "execution_count": 82,
     "metadata": {},
     "output_type": "execute_result"
    }
   ],
   "source": [
    "score = []\n",
    "for loss in ['MSE', 'exponential', 'logistic']:\n",
    "    cur_score = []\n",
    "    for train, val in KFold(n_splits=5, shuffle=True).split(X, y):\n",
    "        my_clf = MyGradientBoostingClassifier(n_estimators=n_estimators, loss=loss)\n",
    "        my_clf.fit(X[train], y[train])\n",
    "        cur_score.append(accuracy_score(y[val], my_clf.predict(X[val])))\n",
    "    print(np.mean(cur_score))\n",
    "    score.append(np.mean(cur_score))\n",
    "score"
   ]
  },
  {
   "cell_type": "code",
   "execution_count": 83,
   "metadata": {},
   "outputs": [],
   "source": [
    "loss = 'MSE'"
   ]
  },
  {
   "cell_type": "code",
   "execution_count": 87,
   "metadata": {},
   "outputs": [
    {
     "name": "stdout",
     "output_type": "stream",
     "text": [
      "0.8652616279069768\n",
      "0.8875\n",
      "0.8659883720930232\n",
      "0.8376937984496123\n",
      "0.6433139534883721\n",
      "0.0001937984496124031\n"
     ]
    }
   ],
   "source": [
    "score = []\n",
    "for learning_rate in [0.01, 0.05, 0.1, 0.2, 0.5, 0.7]:\n",
    "    cur_score = []\n",
    "    for train, val in KFold(n_splits=5, shuffle=True).split(X, y):\n",
    "        my_clf = MyGradientBoostingClassifier(n_estimators=n_estimators, loss=loss, \n",
    "                                              learning_rate=learning_rate)\n",
    "        my_clf.fit(X[train], y[train])\n",
    "        cur_score.append(accuracy_score(y[val], my_clf.predict(X[val])))\n",
    "    print(np.mean(cur_score))\n",
    "    score.append(np.mean(cur_score))"
   ]
  },
  {
   "cell_type": "code",
   "execution_count": 88,
   "metadata": {},
   "outputs": [
    {
     "data": {
      "image/png": "[encoded data removed]",
      "text/plain": [
       "<Figure size 432x288 with 1 Axes>"
      ]
     },
     "metadata": {
      "needs_background": "light"
     },
     "output_type": "display_data"
    }
   ],
   "source": [
    "plt.plot([0.01, 0.05, 0.1, 0.2, 0.5, 0.7], score)\n",
    "plt.show()"
   ]
  },
  {
   "cell_type": "code",
   "execution_count": 90,
   "metadata": {},
   "outputs": [],
   "source": [
    "learning_rate = 0.05"
   ]
  },
  {
   "cell_type": "code",
   "execution_count": 92,
   "metadata": {},
   "outputs": [
    {
     "name": "stdout",
     "output_type": "stream",
     "text": [
      "0.7181201550387597\n",
      "0.8143410852713178\n",
      "0.8809108527131784\n",
      "0.8773740310077519\n",
      "0.886627906976744\n"
     ]
    },
    {
     "data": {
      "text/plain": [
       "[0.7181201550387597,\n",
       " 0.8143410852713178,\n",
       " 0.8809108527131784,\n",
       " 0.8773740310077519,\n",
       " 0.886627906976744]"
      ]
     },
     "execution_count": 92,
     "metadata": {},
     "output_type": "execute_result"
    }
   ],
   "source": [
    "score = []\n",
    "for colsample in [0.2, 0.3, 0.5, 0.7, 1.0]:\n",
    "    cur_score = []\n",
    "    for train, val in KFold(n_splits=5, shuffle=True).split(X, y):\n",
    "        my_clf = MyGradientBoostingClassifier(n_estimators=n_estimators, loss=loss, \n",
    "                                        learning_rate=learning_rate, colsample=colsample)\n",
    "        my_clf.fit(X[train], y[train])\n",
    "        cur_score.append(accuracy_score(y[val], my_clf.predict(X[val])))\n",
    "    print(np.mean(cur_score))\n",
    "    score.append(np.mean(cur_score))\n",
    "score"
   ]
  },
  {
   "cell_type": "code",
   "execution_count": 93,
   "metadata": {},
   "outputs": [
    {
     "data": {
      "image/png": "[encoded data removed]",
      "text/plain": [
       "<Figure size 432x288 with 1 Axes>"
      ]
     },
     "metadata": {
      "needs_background": "light"
     },
     "output_type": "display_data"
    }
   ],
   "source": [
    "plt.plot([0.2, 0.3, 0.5, 0.7, 1.0], score)\n",
    "plt.show()"
   ]
  },
  {
   "cell_type": "code",
   "execution_count": 94,
   "metadata": {},
   "outputs": [],
   "source": [
    "colsample = 1.0"
   ]
  },
  {
   "cell_type": "code",
   "execution_count": 96,
   "metadata": {},
   "outputs": [
    {
     "name": "stdout",
     "output_type": "stream",
     "text": [
      "0.8733527131782945\n",
      "0.8786337209302324\n",
      "0.8879360465116278\n",
      "0.8881782945736434\n",
      "0.8886143410852713\n"
     ]
    },
    {
     "data": {
      "text/plain": [
       "[0.8733527131782945,\n",
       " 0.8786337209302324,\n",
       " 0.8879360465116278,\n",
       " 0.8881782945736434,\n",
       " 0.8886143410852713]"
      ]
     },
     "execution_count": 96,
     "metadata": {},
     "output_type": "execute_result"
    }
   ],
   "source": [
    "score = []\n",
    "for subsample in [0.2, 0.3, 0.5, 0.7, 1.0]:\n",
    "    cur_score = []\n",
    "    for train, val in KFold(n_splits=5, shuffle=True).split(X, y):\n",
    "        my_clf = MyGradientBoostingClassifier(n_estimators=n_estimators, loss=loss, \n",
    "                    learning_rate=learning_rate, colsample=colsample, subsample=subsample)\n",
    "        my_clf.fit(X[train], y[train])\n",
    "        cur_score.append(accuracy_score(y[val], my_clf.predict(X[val])))\n",
    "    print(np.mean(cur_score))\n",
    "    score.append(np.mean(cur_score))\n",
    "score"
   ]
  },
  {
   "cell_type": "code",
   "execution_count": 97,
   "metadata": {},
   "outputs": [
    {
     "data": {
      "image/png": "[encoded data removed]",
      "text/plain": [
       "<Figure size 432x288 with 1 Axes>"
      ]
     },
     "metadata": {
      "needs_background": "light"
     },
     "output_type": "display_data"
    }
   ],
   "source": [
    "plt.plot([0.2, 0.3, 0.5, 0.7, 1.0], score)\n",
    "plt.show()"
   ]
  },
  {
   "cell_type": "code",
   "execution_count": 98,
   "metadata": {},
   "outputs": [],
   "source": [
    "subsample = 1.0"
   ]
  },
  {
   "cell_type": "markdown",
   "metadata": {},
   "source": [
    "## BooBag BagBoo (1 балл)\n",
    "\n"
   ]
  },
  {
   "cell_type": "markdown",
   "metadata": {},
   "source": [
    "Попробуем объединить бустинг и бэгинг. Давайте\n",
    "\n",
    "1) в качестве базовой модели брать не дерево решений, а случайный лес (из sklearn)\n",
    "\n",
    "2) обучать N бустингов на бустрапированной выборке, а затем предикт усреднять"
   ]
  },
  {
   "cell_type": "markdown",
   "metadata": {},
   "source": [
    "Попробуйте обе этих стратегии на данных из прошлого задания. Получилось ли улучшить качество? Почему?"
   ]
  },
  {
   "cell_type": "code",
   "execution_count": 89,
   "metadata": {},
   "outputs": [],
   "source": [
    "from sklearn.ensemble import RandomForestRegressor"
   ]
  },
  {
   "cell_type": "code",
   "execution_count": 115,
   "metadata": {},
   "outputs": [
    {
     "data": {
      "text/plain": [
       "0.978359173126615"
      ]
     },
     "execution_count": 115,
     "metadata": {},
     "output_type": "execute_result"
    }
   ],
   "source": [
    "X_train, X_test, y_train, y_test = train_test_split(X, y, test_size=0.3)\n",
    "my_clf = MyGradientBoostingClassifier(my_n_estimators=n_estimators, loss=loss, \n",
    "    learning_rate=learning_rate, colsample=colsample, subsample=subsample, n_estimators=5)\n",
    "my_clf.fit(X[train], y[train], base_model=RandomForestRegressor)\n",
    "accuracy_score(y_test, my_clf.predict(X_test))"
   ]
  },
  {
   "cell_type": "code",
   "execution_count": 144,
   "metadata": {},
   "outputs": [
    {
     "data": {
      "text/plain": [
       "0.8470607235142119"
      ]
     },
     "execution_count": 144,
     "metadata": {},
     "output_type": "execute_result"
    }
   ],
   "source": [
    "N = 100\n",
    "preds = np.zeros(y_test.shape)\n",
    "for i in range(N):\n",
    "    objects = np.random.randint(low=0, high=X_train.shape[0], size=X_train.shape[0] // N)\n",
    "    my_clf = MyGradientBoostingClassifier(my_n_estimators=n_estimators, loss=loss, \n",
    "                    learning_rate=learning_rate, colsample=colsample, subsample=subsample)\n",
    "    my_clf.fit(X_train[objects], y_train[objects])\n",
    "    preds += my_clf.predict(X_test)\n",
    "accuracy_score(y_test, (preds / N) >= 0.5)"
   ]
  },
  {
   "cell_type": "markdown",
   "metadata": {},
   "source": [
    "RandomForestRegressor позволил значительно улучшить качество классификатора, потому что эта модель очень хорошо подстраивается под данные, а BagBoo почти не отличается своим accuracy от результатов одного классификатора, потому что мы брали в качестве базовых моделей фактически одну и ту же модель, только настроенную на других данных"
   ]
  },
  {
   "cell_type": "markdown",
   "metadata": {
    "collapsed": true
   },
   "source": [
    "## Умная инициализация (1 балл)\n",
    "\n",
    "Попробуйте брать в качестве инициализации бустинга не константу, а какой-то алгоритм и уже от его предикта стартовать итерации бустинга. Попробуйте разные модели из sklearn: линейные модели, рандом форест, svm..\n",
    "\n",
    "Получилось ли улучшить качество? Почему?\n",
    "\n"
   ]
  },
  {
   "cell_type": "code",
   "execution_count": 136,
   "metadata": {},
   "outputs": [
    {
     "data": {
      "text/plain": [
       "0.6437338501291989"
      ]
     },
     "execution_count": 136,
     "metadata": {},
     "output_type": "execute_result"
    }
   ],
   "source": [
    "from sklearn.neighbors import KNeighborsClassifier\n",
    "\n",
    "my_clf = MyGradientBoostingClassifier(my_n_estimators=n_estimators, loss=loss, \n",
    "                    learning_rate=learning_rate, colsample=colsample, subsample=subsample)\n",
    "my_clf.fit(X_train, y_train, init_model=KNeighborsClassifier)\n",
    "accuracy_score(y_test, my_clf.predict(X_test))"
   ]
  },
  {
   "cell_type": "code",
   "execution_count": 137,
   "metadata": {},
   "outputs": [
    {
     "data": {
      "text/plain": [
       "0.8297803617571059"
      ]
     },
     "execution_count": 137,
     "metadata": {},
     "output_type": "execute_result"
    }
   ],
   "source": [
    "from sklearn.tree import DecisionTreeClassifier\n",
    "\n",
    "my_clf = MyGradientBoostingClassifier(my_n_estimators=n_estimators, loss=loss, \n",
    "                    learning_rate=learning_rate, colsample=colsample, subsample=subsample)\n",
    "my_clf.fit(X_train, y_train, init_model=DecisionTreeClassifier)\n",
    "accuracy_score(y_test, my_clf.predict(X_test))"
   ]
  },
  {
   "cell_type": "code",
   "execution_count": 138,
   "metadata": {},
   "outputs": [
    {
     "data": {
      "text/plain": [
       "0.8704780361757106"
      ]
     },
     "execution_count": 138,
     "metadata": {},
     "output_type": "execute_result"
    }
   ],
   "source": [
    "from sklearn.linear_model import SGDClassifier\n",
    "\n",
    "my_clf = MyGradientBoostingClassifier(my_n_estimators=n_estimators, loss=loss, \n",
    "                    learning_rate=learning_rate, colsample=colsample, subsample=subsample)\n",
    "my_clf.fit(X_train, y_train, init_model=SGDClassifier)\n",
    "accuracy_score(y_test, my_clf.predict(X_test))"
   ]
  },
  {
   "cell_type": "code",
   "execution_count": 139,
   "metadata": {},
   "outputs": [
    {
     "name": "stderr",
     "output_type": "stream",
     "text": [
      "/opt/anaconda3/lib/python3.8/site-packages/sklearn/svm/base.py:928: ConvergenceWarning: Liblinear failed to converge, increase the number of iterations.\n",
      "  warnings.warn(\"Liblinear failed to converge, increase \"\n"
     ]
    },
    {
     "data": {
      "text/plain": [
       "0.8443152454780362"
      ]
     },
     "execution_count": 139,
     "metadata": {},
     "output_type": "execute_result"
    }
   ],
   "source": [
    "from sklearn.svm import LinearSVC\n",
    "\n",
    "my_clf = MyGradientBoostingClassifier(my_n_estimators=n_estimators, loss=loss, \n",
    "                    learning_rate=learning_rate, colsample=colsample, subsample=subsample)\n",
    "my_clf.fit(X_train, y_train, init_model=LinearSVC)\n",
    "accuracy_score(y_test, my_clf.predict(X_test))"
   ]
  },
  {
   "cell_type": "code",
   "execution_count": 142,
   "metadata": {},
   "outputs": [
    {
     "data": {
      "text/plain": [
       "0.8854974160206718"
      ]
     },
     "execution_count": 142,
     "metadata": {},
     "output_type": "execute_result"
    }
   ],
   "source": [
    "from sklearn.linear_model import LinearRegression\n",
    "\n",
    "my_clf = MyGradientBoostingClassifier(my_n_estimators=n_estimators, loss=loss, \n",
    "                    learning_rate=learning_rate, colsample=colsample, subsample=subsample)\n",
    "my_clf.fit(X_train, y_train, init_model=LinearRegression)\n",
    "accuracy_score(y_test, my_clf.predict(X_test))"
   ]
  },
  {
   "cell_type": "code",
   "execution_count": 143,
   "metadata": {},
   "outputs": [
    {
     "name": "stderr",
     "output_type": "stream",
     "text": [
      "/opt/anaconda3/lib/python3.8/site-packages/sklearn/ensemble/forest.py:244: FutureWarning: The default value of n_estimators will change from 10 in version 0.20 to 100 in 0.22.\n",
      "  warn(\"The default value of n_estimators will change from \"\n"
     ]
    },
    {
     "data": {
      "text/plain": [
       "0.8716085271317829"
      ]
     },
     "execution_count": 143,
     "metadata": {},
     "output_type": "execute_result"
    }
   ],
   "source": [
    "my_clf = MyGradientBoostingClassifier(my_n_estimators=n_estimators, loss=loss, \n",
    "                    learning_rate=learning_rate, colsample=colsample, subsample=subsample)\n",
    "my_clf.fit(X_train, y_train, init_model=RandomForestRegressor)\n",
    "accuracy_score(y_test, my_clf.predict(X_test))"
   ]
  },
  {
   "cell_type": "markdown",
   "metadata": {},
   "source": [
    "От модели, которой мы инициализируем бустинг, зависит качество результата (это видно на примере с КНН). Какие-то модели лучше описывают данные, поэтому у Линейной регрессии или RandomForest результаты выше"
   ]
  },
  {
   "cell_type": "markdown",
   "metadata": {},
   "source": [
    "## Фидбек (бесценно)"
   ]
  },
  {
   "cell_type": "markdown",
   "metadata": {},
   "source": [
    "* Какие аспекты обучения  ансамблей Вам показались непонятными? Какое место стоит дополнительно объяснить?"
   ]
  },
  {
   "cell_type": "markdown",
   "metadata": {},
   "source": [
    "### Ваш ответ здесь"
   ]
  },
  {
   "cell_type": "markdown",
   "metadata": {},
   "source": [
    "* Здесь Вы можете оставить отзыв о этой домашней работе или о всем курсе."
   ]
  },
  {
   "cell_type": "markdown",
   "metadata": {},
   "source": [
    "### ВАШ ОТЗЫВ ЗДЕСЬ\n",
    "\n"
   ]
  },
  {
   "cell_type": "code",
   "execution_count": null,
   "metadata": {
    "collapsed": true
   },
   "outputs": [],
   "source": []
  },
  {
   "cell_type": "code",
   "execution_count": null,
   "metadata": {
    "collapsed": true
   },
   "outputs": [],
   "source": []
  }
 ],
 "metadata": {
  "anaconda-cloud": {},
  "kernelspec": {
   "display_name": "Python 3",
   "language": "python",
   "name": "python3"
  },
  "language_info": {
   "codemirror_mode": {
    "name": "ipython",
    "version": 3
   },
   "file_extension": ".py",
   "mimetype": "text/x-python",
   "name": "python",
   "nbconvert_exporter": "python",
   "pygments_lexer": "ipython3",
   "version": "3.8.3"
  }
 },
 "nbformat": 4,
 "nbformat_minor": 2
}
